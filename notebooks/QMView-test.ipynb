{
 "cells": [
  {
   "cell_type": "code",
   "execution_count": 18,
   "id": "e31ceddf-90d6-4886-ad10-a262b43efcf5",
   "metadata": {},
   "outputs": [],
   "source": [
    "import numpy as np\n",
    "import pandas as pd\n",
    "import scipy.stats as stats"
   ]
  },
  {
   "cell_type": "code",
   "execution_count": 23,
   "id": "d78ae562-558f-4862-a081-1f7834c885e6",
   "metadata": {},
   "outputs": [],
   "source": [
    "from matplotlib import cm\n",
    "from matplotlib import pyplot as plt"
   ]
  },
  {
   "cell_type": "code",
   "execution_count": 29,
   "id": "f2c5de5c-6123-476c-8cd2-eb137a2d5036",
   "metadata": {},
   "outputs": [],
   "source": [
    "TURNIP8_COLORMAP = cm.get_cmap('PiYG', 8)\n",
    "TURNIP8_COLORMAP_R = cm.get_cmap('PiYG_r', 8)"
   ]
  },
  {
   "cell_type": "code",
   "execution_count": 19,
   "id": "03886e2d-4ca2-482b-9b4c-c59fe342dd23",
   "metadata": {},
   "outputs": [
    {
     "name": "stdout",
     "output_type": "stream",
     "text": [
      "/Volumes/Main/Working/mriqception_test/mriqception\n"
     ]
    }
   ],
   "source": [
    "import os\n",
    "print(os.getcwd())"
   ]
  },
  {
   "cell_type": "code",
   "execution_count": 20,
   "id": "557f254d-2253-41e0-b03c-91c624ca4b70",
   "metadata": {},
   "outputs": [],
   "source": [
    "qm_file = \"../data/bold_test.tsv\"\n",
    "qm_df = pd.read_csv(qm_file, sep=\"\\t\")"
   ]
  },
  {
   "cell_type": "code",
   "execution_count": 21,
   "id": "6bcd72ad-a19c-450f-b6f7-27525d70afb0",
   "metadata": {},
   "outputs": [],
   "source": [
    "def normalize_to_zscores (qm_df):\n",
    "  \"Apply Z-score by column to every column except the BIDS name column.\"\n",
    "  bids_names = qm_df['bids_name']\n",
    "  z_df = qm_df.iloc[:, 1:].apply(stats.zscore)\n",
    "  return pd.concat([bids_names, z_df], axis=1)"
   ]
  },
  {
   "cell_type": "code",
   "execution_count": 22,
   "id": "8268e69b-effc-4f96-bf7c-41d70ca916a1",
   "metadata": {},
   "outputs": [],
   "source": [
    "norm_df = normalize_to_zscores(qm_df)"
   ]
  },
  {
   "cell_type": "code",
   "execution_count": 30,
   "id": "d4e7e363-942b-4041-8218-4d841c1a869f",
   "metadata": {},
   "outputs": [],
   "source": [
    "def show_colormap_legend ():\n",
    "  \"Draw a colormap legend for the colored dataframe.\"\n",
    "  plt.imshow([[0, 1, 2, 3, 4, 5, 6, 7]], cmap=TURNIP8_COLORMAP)\n",
    "  plt.imshow([[0, 1, 2, 3, 4, 5, 6, 7]], cmap=TURNIP8_COLORMAP_R)"
   ]
  },
  {
   "cell_type": "code",
   "execution_count": 32,
   "id": "eef9e8b0-6fc8-460c-bd5f-88d7100b8331",
   "metadata": {},
   "outputs": [],
   "source": [
    "def show_colormap_legends ():\n",
    "  \"Draw a colormap legend for the colored dataframe.\"\n",
    "  return (\n",
    "    plt.imshow([[0, 1, 2, 3, 4, 5, 6, 7]], cmap=TURNIP8_COLORMAP),\n",
    "    plt.imshow([[0, 1, 2, 3, 4, 5, 6, 7]], cmap=TURNIP8_COLORMAP_R)\n",
    "  )"
   ]
  },
  {
   "cell_type": "code",
   "execution_count": 33,
   "id": "8bc65296-d7e7-480f-af57-6baa9b410060",
   "metadata": {},
   "outputs": [
    {
     "data": {
      "image/png": "[encoded data removed]",
      "text/plain": [
       "<Figure size 432x288 with 1 Axes>"
      ]
     },
     "metadata": {
      "needs_background": "light"
     },
     "output_type": "display_data"
    }
   ],
   "source": [
    "p1, p2 = show_colormap_legends()"
   ]
  },
  {
   "cell_type": "code",
   "execution_count": 36,
   "id": "be132f47-a222-49c5-a6ba-72bc875478dd",
   "metadata": {
    "tags": []
   },
   "outputs": [],
   "source": []
  },
  {
   "cell_type": "code",
   "execution_count": 35,
   "id": "cb1e613d-e045-465c-acb5-03a8cc5d9956",
   "metadata": {},
   "outputs": [
    {
     "data": {
      "text/plain": [
       "<matplotlib.image.AxesImage at 0x7fdd514c76d0>"
      ]
     },
     "execution_count": 35,
     "metadata": {},
     "output_type": "execute_result"
    }
   ],
   "source": [
    "p2"
   ]
  },
  {
   "cell_type": "code",
   "execution_count": null,
   "id": "d5b4eb38-3acc-4652-bb62-62e401190216",
   "metadata": {},
   "outputs": [],
   "source": []
  }
 ],
 "metadata": {
  "kernelspec": {
   "display_name": "Python 3",
   "language": "python",
   "name": "python3"
  },
  "language_info": {
   "codemirror_mode": {
    "name": "ipython",
    "version": 3
   },
   "file_extension": ".py",
   "mimetype": "text/x-python",
   "name": "python",
   "nbconvert_exporter": "python",
   "pygments_lexer": "ipython3",
   "version": "3.9.5"
  }
 },
 "nbformat": 4,
 "nbformat_minor": 5
}
