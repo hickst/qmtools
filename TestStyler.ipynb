{
 "cells": [
  {
   "cell_type": "code",
   "execution_count": null,
   "id": "732f5014-5a98-443a-8ddb-02120853a068",
   "metadata": {},
   "outputs": [],
   "source": [
    "import numpy as np\n",
    "import pandas as pd\n",
    "\n",
    "from matplotlib import cm\n",
    "from matplotlib import pyplot as plt\n",
    "\n",
    "# from qmview import qmview as qmv\n",
    "import qmview"
   ]
  },
  {
   "cell_type": "code",
   "execution_count": null,
   "id": "daf7e4cb-d3b1-4f3a-bf26-6dca085237b9",
   "metadata": {},
   "outputs": [],
   "source": [
    "TURNIP8_COLORMAP = cm.get_cmap('PiYG', 8)\n",
    "TURNIP8_COLORMAP_R = cm.get_cmap('PiYG_r', 8)"
   ]
  },
  {
   "cell_type": "code",
   "execution_count": null,
   "id": "f4a86985-83ef-496f-9391-7924d985d3c4",
   "metadata": {},
   "outputs": [],
   "source": [
    "def load_tsv (tsv_path):\n",
    "  return pd.read_csv(tsv_path, sep='\\t')"
   ]
  },
  {
   "cell_type": "code",
   "execution_count": null,
   "id": "5308d74a-1d67-4735-9a35-0797fd39efa2",
   "metadata": {
    "tags": []
   },
   "outputs": [],
   "source": [
    "qm_df = load_tsv('../test/resources/gtest.tsv')"
   ]
  },
  {
   "cell_type": "code",
   "execution_count": null,
   "id": "e2af17c6-57ba-484b-9645-ff23cdacfe9f",
   "metadata": {},
   "outputs": [],
   "source": [
    "norm_df = qmview.normalize_to_zscores(qm_df)"
   ]
  },
  {
   "cell_type": "code",
   "execution_count": null,
   "id": "9688645c-2ee0-4800-97c4-1338e6f9eb05",
   "metadata": {},
   "outputs": [],
   "source": [
    "qmview.colorize_by_std_deviations(norm_df)"
   ]
  },
  {
   "cell_type": "code",
   "execution_count": null,
   "id": "28f2cc2c-cb05-4959-bfa8-e306f29b4465",
   "metadata": {},
   "outputs": [],
   "source": [
    "styler = norm_df.style.background_gradient(cmap=TURNIP8_COLORMAP, axis=None, vmin=-4.0, vmax=4.0)"
   ]
  }
 ],
 "metadata": {
  "kernelspec": {
   "display_name": "Python 3",
   "language": "python",
   "name": "python3"
  },
  "language_info": {
   "codemirror_mode": {
    "name": "ipython",
    "version": 3
   },
   "file_extension": ".py",
   "mimetype": "text/x-python",
   "name": "python",
   "nbconvert_exporter": "python",
   "pygments_lexer": "ipython3",
   "version": "3.9.5"
  }
 },
 "nbformat": 4,
 "nbformat_minor": 5
}
